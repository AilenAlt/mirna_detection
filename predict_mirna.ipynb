{
 "cells": [
  {
   "attachments": {},
   "cell_type": "markdown",
   "metadata": {},
   "source": [
    "# Detección de pre-miRNAs a partir de aprendizaje automatico #\n",
    "**Objetivo**: comparar modelos capaces de identificar potenciales secuencias pre-miRNAs en el genoma de *Drosophila melanogaster* a partir de sus caracteristicas, y diferenciarla de secuencias que no son pre-miRNAs. \n",
    "\n",
    "**Motivación**: La identificación de pre-miRNAs es fundamental para entender la regulación génica en organismos eucariotas y ha sido objeto de estudio en la biología molecular durante los últimos años. Sin embargo, la detección de estas secuencias puede ser difícil dada su corta longitud y que no codifican proteínas. Debido a esto, no es sencillo identificar pre-miRNAs usando métodos basados en alineamientos como BLAST. En este trabajo me propongo utilizar la ciencia de datos y el aprendizaje supervisado para generar modelos capaces de predecir si una secuencia, dadas sus caracteristicas, genera un pre-miRNA.\n",
    "Las caracteristicas requeridas para realizar la clasificación - como energía libre liberada, la cantidad de nucleótidos formando ciertos patrones, etc - pueden ser extraidas a partir de las secuencias de las horquillas. La disponibilidad de un genoma de *Drosophila melanogaster* completamente secuenciado facilita esta tarea."
   ]
  },
  {
   "attachments": {},
   "cell_type": "markdown",
   "metadata": {},
   "source": [
    "## Software utilizado ##\n",
    "\n",
    "En este proyecto se utilizó Python como lenguaje de programación, dada a su popularidad en el ámbito científico y a que cuenta con numerosas *libraries* para procesamiento de datos y machine learning. Las librerías utilizadas en este proyecto son las siguientes:\n",
    "\n",
    "- *Matplotlib.pyplot* y *seaborn*: son *libraries* de visualización de datos en 2D para Python, que permite generar gráficas y visualizaciones de datos de alta calidad.\n",
    "\n",
    "- *NumPy*: *library* para procesamiento numérico y científico de datos. Permite trabajar con vectores y matríces, y proporciona numerosas funciones matemáticas y estadísticas.\n",
    "\n",
    "- *Pandas*: es una *library* que proporciona estructuras de datos y herramientas para el análisis de datos. Ofrece una amplia gama de funciones para la manipulación y limpieza de datos.\n",
    "\n",
    "- *Scikit-learn*: *library* para aprendizaje automático, que proporciona una amplia variedad de algoritmos de clasificación, regresión y clustering, entre otros. Además, ofrece herramientas para la evaluación de modelos.\n",
    "\n",
    "Estas librerías fueron seleccionadas debido a su popularidad en la comunidad de machine learning y a su facilidad de uso. Además, todas ellas son de código abierto y están disponibles de manera gratuita, lo que permite a cualquier persona utilizarlas y contribuir a su desarrollo."
   ]
  },
  {
   "attachments": {},
   "cell_type": "markdown",
   "metadata": {},
   "source": [
    "## Base de Datos utilizada ##\n",
    "La base de datos utilizada se corresponde con el trabajo publicado en el artículo \"*Genome-wide hairpins datasets of animals and plants for novel miRNA prediction*\". El dataset correspondiente a *D. melanogaster* contiene caracteristicas de secuencias capaces de adquirir una estructura de *hairpin*. Su clase indica si la secuencia es un pre-miRNA conocido en base a miRBase v21 (clase 1), o si la secuencia no posee función conocida hasta el momento (clase 0). La base de datos miRBase es una base de datos curada de secuencias de miARNs, que almacena datos correspondientes a miARNs identificados experimentalmente y predicciones computacionales. miRBase se actualiza regularmente para incluir nuevos datos y para mejorar la calidad de las anotaciones disponibles.\n",
    "\n",
    "Este dataset fue seleccionado debido a que contiene un conjunto de datos bien definido y etiquetado, que permite entrenar y evaluar modelos de aprendizaje automático. "
   ]
  },
  {
   "cell_type": "code",
   "execution_count": 15,
   "metadata": {},
   "outputs": [],
   "source": [
    "import pandas as pd\n",
    "import numpy as np\n",
    "import matplotlib.pyplot as plt"
   ]
  },
  {
   "cell_type": "code",
   "execution_count": 33,
   "metadata": {},
   "outputs": [
    {
     "name": "stderr",
     "output_type": "stream",
     "text": [
      "/home/ailu/anaconda3/envs/alfreedo/lib/python3.7/site-packages/IPython/core/interactiveshell.py:3457: DtypeWarning: Columns (22,75) have mixed types.Specify dtype option on import or set low_memory=False.\n",
      "  exec(code_obj, self.user_global_ns, self.user_ns)\n"
     ]
    }
   ],
   "source": [
    "df = pd.read_csv(\"dme.csv\")"
   ]
  },
  {
   "cell_type": "code",
   "execution_count": 3,
   "metadata": {},
   "outputs": [
    {
     "data": {
      "text/html": [
       "<div>\n",
       "<style scoped>\n",
       "    .dataframe tbody tr th:only-of-type {\n",
       "        vertical-align: middle;\n",
       "    }\n",
       "\n",
       "    .dataframe tbody tr th {\n",
       "        vertical-align: top;\n",
       "    }\n",
       "\n",
       "    .dataframe thead th {\n",
       "        text-align: right;\n",
       "    }\n",
       "</style>\n",
       "<table border=\"1\" class=\"dataframe\">\n",
       "  <thead>\n",
       "    <tr style=\"text-align: right;\">\n",
       "      <th></th>\n",
       "      <th>sequence_names</th>\n",
       "      <th>nt_proportion0</th>\n",
       "      <th>nt_proportion1</th>\n",
       "      <th>nt_proportion2</th>\n",
       "      <th>nt_proportion3</th>\n",
       "      <th>dinucleotide_proportion0</th>\n",
       "      <th>dinucleotide_proportion1</th>\n",
       "      <th>dinucleotide_proportion2</th>\n",
       "      <th>dinucleotide_proportion3</th>\n",
       "      <th>dinucleotide_proportion4</th>\n",
       "      <th>...</th>\n",
       "      <th>efe</th>\n",
       "      <th>ensemble_frequency</th>\n",
       "      <th>diversity</th>\n",
       "      <th>mfe_efe_difference</th>\n",
       "      <th>dQ</th>\n",
       "      <th>dG</th>\n",
       "      <th>mfei1</th>\n",
       "      <th>mfei2</th>\n",
       "      <th>mfei4</th>\n",
       "      <th>CLASS</th>\n",
       "    </tr>\n",
       "  </thead>\n",
       "  <tbody>\n",
       "    <tr>\n",
       "      <th>0</th>\n",
       "      <td>AE014297.3_Drosophila_melanogaster_chromosome_...</td>\n",
       "      <td>0.275510</td>\n",
       "      <td>0.234694</td>\n",
       "      <td>0.285714</td>\n",
       "      <td>0.204082</td>\n",
       "      <td>0.072165</td>\n",
       "      <td>0.061856</td>\n",
       "      <td>0.113402</td>\n",
       "      <td>0.030928</td>\n",
       "      <td>0.051546</td>\n",
       "      <td>...</td>\n",
       "      <td>-50.47</td>\n",
       "      <td>0.288490</td>\n",
       "      <td>4.10</td>\n",
       "      <td>0.007857</td>\n",
       "      <td>0.120836</td>\n",
       "      <td>-0.507143</td>\n",
       "      <td>-0.97451</td>\n",
       "      <td>-0.12678599999999998</td>\n",
       "      <td>-1.461765</td>\n",
       "      <td>1</td>\n",
       "    </tr>\n",
       "    <tr>\n",
       "      <th>1</th>\n",
       "      <td>AE014297.3_Drosophila_melanogaster_chromosome_...</td>\n",
       "      <td>0.222222</td>\n",
       "      <td>0.253968</td>\n",
       "      <td>0.246032</td>\n",
       "      <td>0.277778</td>\n",
       "      <td>0.064000</td>\n",
       "      <td>0.064000</td>\n",
       "      <td>0.056000</td>\n",
       "      <td>0.040000</td>\n",
       "      <td>0.048000</td>\n",
       "      <td>...</td>\n",
       "      <td>-48.23</td>\n",
       "      <td>0.036854</td>\n",
       "      <td>9.39</td>\n",
       "      <td>0.016111</td>\n",
       "      <td>0.207961</td>\n",
       "      <td>-0.366667</td>\n",
       "      <td>-0.733333</td>\n",
       "      <td>-0.061111</td>\n",
       "      <td>-1.155000</td>\n",
       "      <td>1</td>\n",
       "    </tr>\n",
       "    <tr>\n",
       "      <th>2</th>\n",
       "      <td>AE014297.3_Drosophila_melanogaster_chromosome_...</td>\n",
       "      <td>0.351064</td>\n",
       "      <td>0.127660</td>\n",
       "      <td>0.127660</td>\n",
       "      <td>0.393617</td>\n",
       "      <td>0.118280</td>\n",
       "      <td>0.021505</td>\n",
       "      <td>0.032258</td>\n",
       "      <td>0.182796</td>\n",
       "      <td>0.096774</td>\n",
       "      <td>...</td>\n",
       "      <td>-25.33</td>\n",
       "      <td>0.221704</td>\n",
       "      <td>4.35</td>\n",
       "      <td>0.009894</td>\n",
       "      <td>0.127042</td>\n",
       "      <td>-0.259574</td>\n",
       "      <td>-1.016667</td>\n",
       "      <td>-0.06489400000000001</td>\n",
       "      <td>-0.813333</td>\n",
       "      <td>1</td>\n",
       "    </tr>\n",
       "    <tr>\n",
       "      <th>3</th>\n",
       "      <td>AE014297.3_Drosophila_melanogaster_chromosome_...</td>\n",
       "      <td>0.242857</td>\n",
       "      <td>0.157143</td>\n",
       "      <td>0.228571</td>\n",
       "      <td>0.371429</td>\n",
       "      <td>0.028986</td>\n",
       "      <td>0.101449</td>\n",
       "      <td>0.014493</td>\n",
       "      <td>0.086957</td>\n",
       "      <td>0.086957</td>\n",
       "      <td>...</td>\n",
       "      <td>-25.38</td>\n",
       "      <td>0.174131</td>\n",
       "      <td>3.75</td>\n",
       "      <td>0.015429</td>\n",
       "      <td>0.128262</td>\n",
       "      <td>-0.347143</td>\n",
       "      <td>-0.9</td>\n",
       "      <td>-0.11571400000000001</td>\n",
       "      <td>-1.012500</td>\n",
       "      <td>1</td>\n",
       "    </tr>\n",
       "    <tr>\n",
       "      <th>4</th>\n",
       "      <td>AE014297.3_Drosophila_melanogaster_chromosome_...</td>\n",
       "      <td>0.229814</td>\n",
       "      <td>0.192547</td>\n",
       "      <td>0.180124</td>\n",
       "      <td>0.397516</td>\n",
       "      <td>0.056250</td>\n",
       "      <td>0.031250</td>\n",
       "      <td>0.050000</td>\n",
       "      <td>0.093750</td>\n",
       "      <td>0.025000</td>\n",
       "      <td>...</td>\n",
       "      <td>-34.61</td>\n",
       "      <td>0.002059</td>\n",
       "      <td>17.16</td>\n",
       "      <td>0.023665</td>\n",
       "      <td>0.281280</td>\n",
       "      <td>-0.191304</td>\n",
       "      <td>-0.513333</td>\n",
       "      <td>-0.027329000000000003</td>\n",
       "      <td>-0.570370</td>\n",
       "      <td>1</td>\n",
       "    </tr>\n",
       "  </tbody>\n",
       "</table>\n",
       "<p>5 rows × 79 columns</p>\n",
       "</div>"
      ],
      "text/plain": [
       "                                      sequence_names   nt_proportion0  \\\n",
       "0  AE014297.3_Drosophila_melanogaster_chromosome_...         0.275510   \n",
       "1  AE014297.3_Drosophila_melanogaster_chromosome_...         0.222222   \n",
       "2  AE014297.3_Drosophila_melanogaster_chromosome_...         0.351064   \n",
       "3  AE014297.3_Drosophila_melanogaster_chromosome_...         0.242857   \n",
       "4  AE014297.3_Drosophila_melanogaster_chromosome_...         0.229814   \n",
       "\n",
       "    nt_proportion1   nt_proportion2   nt_proportion3  \\\n",
       "0         0.234694         0.285714         0.204082   \n",
       "1         0.253968         0.246032         0.277778   \n",
       "2         0.127660         0.127660         0.393617   \n",
       "3         0.157143         0.228571         0.371429   \n",
       "4         0.192547         0.180124         0.397516   \n",
       "\n",
       "    dinucleotide_proportion0   dinucleotide_proportion1  \\\n",
       "0                   0.072165                   0.061856   \n",
       "1                   0.064000                   0.064000   \n",
       "2                   0.118280                   0.021505   \n",
       "3                   0.028986                   0.101449   \n",
       "4                   0.056250                   0.031250   \n",
       "\n",
       "    dinucleotide_proportion2   dinucleotide_proportion3  \\\n",
       "0                   0.113402                   0.030928   \n",
       "1                   0.056000                   0.040000   \n",
       "2                   0.032258                   0.182796   \n",
       "3                   0.014493                   0.086957   \n",
       "4                   0.050000                   0.093750   \n",
       "\n",
       "    dinucleotide_proportion4  ...    efe   ensemble_frequency   diversity  \\\n",
       "0                   0.051546  ... -50.47             0.288490        4.10   \n",
       "1                   0.048000  ... -48.23             0.036854        9.39   \n",
       "2                   0.096774  ... -25.33             0.221704        4.35   \n",
       "3                   0.086957  ... -25.38             0.174131        3.75   \n",
       "4                   0.025000  ... -34.61             0.002059       17.16   \n",
       "\n",
       "    mfe_efe_difference        dQ        dG     mfei1                  mfei2  \\\n",
       "0             0.007857  0.120836 -0.507143  -0.97451   -0.12678599999999998   \n",
       "1             0.016111  0.207961 -0.366667 -0.733333              -0.061111   \n",
       "2             0.009894  0.127042 -0.259574 -1.016667   -0.06489400000000001   \n",
       "3             0.015429  0.128262 -0.347143      -0.9   -0.11571400000000001   \n",
       "4             0.023665  0.281280 -0.191304 -0.513333  -0.027329000000000003   \n",
       "\n",
       "      mfei4  CLASS  \n",
       "0 -1.461765      1  \n",
       "1 -1.155000      1  \n",
       "2 -0.813333      1  \n",
       "3 -1.012500      1  \n",
       "4 -0.570370      1  \n",
       "\n",
       "[5 rows x 79 columns]"
      ]
     },
     "execution_count": 3,
     "metadata": {},
     "output_type": "execute_result"
    }
   ],
   "source": [
    "# Compruebo haber cargado el dataframe correctamente\n",
    "df.head()"
   ]
  },
  {
   "cell_type": "code",
   "execution_count": 4,
   "metadata": {},
   "outputs": [
    {
     "name": "stdout",
     "output_type": "stream",
     "text": [
      "<class 'pandas.core.frame.DataFrame'>\n",
      "RangeIndex: 2066807 entries, 0 to 2066806\n",
      "Data columns (total 79 columns):\n",
      " #   Column                      Dtype  \n",
      "---  ------                      -----  \n",
      " 0   sequence_names              object \n",
      " 1    nt_proportion0             float64\n",
      " 2    nt_proportion1             float64\n",
      " 3    nt_proportion2             float64\n",
      " 4    nt_proportion3             float64\n",
      " 5    dinucleotide_proportion0   float64\n",
      " 6    dinucleotide_proportion1   float64\n",
      " 7    dinucleotide_proportion2   float64\n",
      " 8    dinucleotide_proportion3   float64\n",
      " 9    dinucleotide_proportion4   float64\n",
      " 10   dinucleotide_proportion5   float64\n",
      " 11   dinucleotide_proportion6   float64\n",
      " 12   dinucleotide_proportion7   float64\n",
      " 13   dinucleotide_proportion8   float64\n",
      " 14   dinucleotide_proportion9   float64\n",
      " 15   dinucleotide_proportion10  float64\n",
      " 16   dinucleotide_proportion11  float64\n",
      " 17   dinucleotide_proportion12  float64\n",
      " 18   dinucleotide_proportion13  float64\n",
      " 19   dinucleotide_proportion14  float64\n",
      " 20   dinucleotide_proportion15  float64\n",
      " 21   gc_content                 float64\n",
      " 22   gc_ratio                   object \n",
      " 23   sequence_length            float64\n",
      " 24   stem_number                float64\n",
      " 25   avg_bp_stem                float64\n",
      " 26   longest_stem_length        float64\n",
      " 27   terminal_loop_length       float64\n",
      " 28   bp_number                  float64\n",
      " 29   dP                         float64\n",
      " 30   bp_proportion0             float64\n",
      " 31   bp_proportion1             float64\n",
      " 32   bp_proportion2             float64\n",
      " 33   bp_proportion_stem0        object \n",
      " 34   bp_proportion_stem1        object \n",
      " 35   bp_proportion_stem2        object \n",
      " 36   triplets0                  float64\n",
      " 37   triplets1                  float64\n",
      " 38   triplets2                  float64\n",
      " 39   triplets3                  float64\n",
      " 40   triplets4                  float64\n",
      " 41   triplets5                  float64\n",
      " 42   triplets6                  float64\n",
      " 43   triplets7                  float64\n",
      " 44   triplets8                  float64\n",
      " 45   triplets9                  float64\n",
      " 46   triplets10                 float64\n",
      " 47   triplets11                 float64\n",
      " 48   triplets12                 float64\n",
      " 49   triplets13                 float64\n",
      " 50   triplets14                 float64\n",
      " 51   triplets15                 float64\n",
      " 52   triplets16                 float64\n",
      " 53   triplets17                 float64\n",
      " 54   triplets18                 float64\n",
      " 55   triplets19                 float64\n",
      " 56   triplets20                 float64\n",
      " 57   triplets21                 float64\n",
      " 58   triplets22                 float64\n",
      " 59   triplets23                 float64\n",
      " 60   triplets24                 float64\n",
      " 61   triplets25                 float64\n",
      " 62   triplets26                 float64\n",
      " 63   triplets27                 float64\n",
      " 64   triplets28                 float64\n",
      " 65   triplets29                 float64\n",
      " 66   triplets30                 float64\n",
      " 67   triplets31                 float64\n",
      " 68   mfe                        float64\n",
      " 69   efe                        float64\n",
      " 70   ensemble_frequency         float64\n",
      " 71   diversity                  float64\n",
      " 72   mfe_efe_difference         float64\n",
      " 73   dQ                         float64\n",
      " 74   dG                         float64\n",
      " 75   mfei1                      object \n",
      " 76   mfei2                      object \n",
      " 77   mfei4                      float64\n",
      " 78  CLASS                       int64  \n",
      "dtypes: float64(71), int64(1), object(7)\n",
      "memory usage: 1.2+ GB\n"
     ]
    }
   ],
   "source": [
    "df.info()"
   ]
  },
  {
   "cell_type": "code",
   "execution_count": 5,
   "metadata": {},
   "outputs": [
    {
     "data": {
      "text/plain": [
       "(2066807, 79)"
      ]
     },
     "execution_count": 5,
     "metadata": {},
     "output_type": "execute_result"
    }
   ],
   "source": [
    "df.shape\n",
    "# El dataframe posee 2066807 filas y 79 columnas"
   ]
  },
  {
   "cell_type": "code",
   "execution_count": 17,
   "metadata": {},
   "outputs": [
    {
     "data": {
      "text/plain": [
       "0    2066500\n",
       "1        307\n",
       "Name: CLASS, dtype: int64"
      ]
     },
     "execution_count": 17,
     "metadata": {},
     "output_type": "execute_result"
    }
   ],
   "source": [
    "# Veo cuantos miRNAs conocidos (clase = 1) posee la base de datos\n",
    "# y cuantas secuencias sin funcion conocida (clase = 0)\n",
    "df[\"CLASS\"].value_counts()\n",
    "# la clase 0 esta muy representada, teniendo 2066500 horquillas sin funcion conocida\n",
    "# mientras que hay 307 horquillas que son pre-miRNAs conocidos en base a miRBase"
   ]
  },
  {
   "cell_type": "code",
   "execution_count": 34,
   "metadata": {},
   "outputs": [],
   "source": [
    "# Si entrenara un clasificador con este dataset, estaría dandole mayor importancia\n",
    "# a la clase 0, que se encuentra mas representada\n",
    "\n",
    "# Realizo un submuestreo de forma de muestrear las features de clase 1\n",
    "df[\"weight\"] = df[\"CLASS\"].apply(lambda x: 0.00000001 if x == 0 else 1) # la probabilidad\n",
    "# de muestrar features de clase 1 es 1, y asigno a la clase 0 una \n",
    "# probabilidad mucho mas baja, por lo que todas las de clase 1 van a estar en mi dataset\n",
    "\n",
    "df = df.sample(n=5000, weights=df[\"weight\"], random_state= 5)\n",
    "# especifico un random_state para obtener siempre el mismo resultado \n",
    "# al volver a ejecutar el notebook"
   ]
  },
  {
   "cell_type": "code",
   "execution_count": 8,
   "metadata": {},
   "outputs": [
    {
     "name": "stdout",
     "output_type": "stream",
     "text": [
      "<class 'pandas.core.frame.DataFrame'>\n",
      "Int64Index: 5000 entries, 842801 to 599013\n",
      "Data columns (total 80 columns):\n",
      " #   Column                      Non-Null Count  Dtype  \n",
      "---  ------                      --------------  -----  \n",
      " 0   sequence_names              5000 non-null   object \n",
      " 1    nt_proportion0             5000 non-null   float64\n",
      " 2    nt_proportion1             5000 non-null   float64\n",
      " 3    nt_proportion2             5000 non-null   float64\n",
      " 4    nt_proportion3             5000 non-null   float64\n",
      " 5    dinucleotide_proportion0   5000 non-null   float64\n",
      " 6    dinucleotide_proportion1   5000 non-null   float64\n",
      " 7    dinucleotide_proportion2   5000 non-null   float64\n",
      " 8    dinucleotide_proportion3   5000 non-null   float64\n",
      " 9    dinucleotide_proportion4   5000 non-null   float64\n",
      " 10   dinucleotide_proportion5   5000 non-null   float64\n",
      " 11   dinucleotide_proportion6   5000 non-null   float64\n",
      " 12   dinucleotide_proportion7   5000 non-null   float64\n",
      " 13   dinucleotide_proportion8   5000 non-null   float64\n",
      " 14   dinucleotide_proportion9   5000 non-null   float64\n",
      " 15   dinucleotide_proportion10  5000 non-null   float64\n",
      " 16   dinucleotide_proportion11  5000 non-null   float64\n",
      " 17   dinucleotide_proportion12  5000 non-null   float64\n",
      " 18   dinucleotide_proportion13  5000 non-null   float64\n",
      " 19   dinucleotide_proportion14  5000 non-null   float64\n",
      " 20   dinucleotide_proportion15  5000 non-null   float64\n",
      " 21   gc_content                 5000 non-null   float64\n",
      " 22   gc_ratio                   5000 non-null   object \n",
      " 23   sequence_length            5000 non-null   float64\n",
      " 24   stem_number                5000 non-null   float64\n",
      " 25   avg_bp_stem                5000 non-null   float64\n",
      " 26   longest_stem_length        5000 non-null   float64\n",
      " 27   terminal_loop_length       5000 non-null   float64\n",
      " 28   bp_number                  5000 non-null   float64\n",
      " 29   dP                         5000 non-null   float64\n",
      " 30   bp_proportion0             5000 non-null   float64\n",
      " 31   bp_proportion1             5000 non-null   float64\n",
      " 32   bp_proportion2             5000 non-null   float64\n",
      " 33   bp_proportion_stem0        5000 non-null   object \n",
      " 34   bp_proportion_stem1        5000 non-null   object \n",
      " 35   bp_proportion_stem2        5000 non-null   object \n",
      " 36   triplets0                  5000 non-null   float64\n",
      " 37   triplets1                  5000 non-null   float64\n",
      " 38   triplets2                  5000 non-null   float64\n",
      " 39   triplets3                  5000 non-null   float64\n",
      " 40   triplets4                  5000 non-null   float64\n",
      " 41   triplets5                  5000 non-null   float64\n",
      " 42   triplets6                  5000 non-null   float64\n",
      " 43   triplets7                  5000 non-null   float64\n",
      " 44   triplets8                  5000 non-null   float64\n",
      " 45   triplets9                  5000 non-null   float64\n",
      " 46   triplets10                 5000 non-null   float64\n",
      " 47   triplets11                 5000 non-null   float64\n",
      " 48   triplets12                 5000 non-null   float64\n",
      " 49   triplets13                 5000 non-null   float64\n",
      " 50   triplets14                 5000 non-null   float64\n",
      " 51   triplets15                 5000 non-null   float64\n",
      " 52   triplets16                 5000 non-null   float64\n",
      " 53   triplets17                 5000 non-null   float64\n",
      " 54   triplets18                 5000 non-null   float64\n",
      " 55   triplets19                 5000 non-null   float64\n",
      " 56   triplets20                 5000 non-null   float64\n",
      " 57   triplets21                 5000 non-null   float64\n",
      " 58   triplets22                 5000 non-null   float64\n",
      " 59   triplets23                 5000 non-null   float64\n",
      " 60   triplets24                 5000 non-null   float64\n",
      " 61   triplets25                 5000 non-null   float64\n",
      " 62   triplets26                 5000 non-null   float64\n",
      " 63   triplets27                 5000 non-null   float64\n",
      " 64   triplets28                 5000 non-null   float64\n",
      " 65   triplets29                 5000 non-null   float64\n",
      " 66   triplets30                 5000 non-null   float64\n",
      " 67   triplets31                 5000 non-null   float64\n",
      " 68   mfe                        5000 non-null   float64\n",
      " 69   efe                        5000 non-null   float64\n",
      " 70   ensemble_frequency         5000 non-null   float64\n",
      " 71   diversity                  5000 non-null   float64\n",
      " 72   mfe_efe_difference         5000 non-null   float64\n",
      " 73   dQ                         5000 non-null   float64\n",
      " 74   dG                         5000 non-null   float64\n",
      " 75   mfei1                      5000 non-null   object \n",
      " 76   mfei2                      5000 non-null   object \n",
      " 77   mfei4                      5000 non-null   float64\n",
      " 78  CLASS                       5000 non-null   int64  \n",
      " 79  weight                      5000 non-null   float64\n",
      "dtypes: float64(72), int64(1), object(7)\n",
      "memory usage: 3.1+ MB\n"
     ]
    }
   ],
   "source": [
    "# Exploro mi dataset obtenido a partir del submuestreo\n",
    "df.info()"
   ]
  },
  {
   "cell_type": "code",
   "execution_count": 9,
   "metadata": {},
   "outputs": [
    {
     "data": {
      "text/plain": [
       "0    4693\n",
       "1     307\n",
       "Name: CLASS, dtype: int64"
      ]
     },
     "execution_count": 9,
     "metadata": {},
     "output_type": "execute_result"
    }
   ],
   "source": [
    "df[\"CLASS\"].value_counts()"
   ]
  },
  {
   "cell_type": "code",
   "execution_count": 35,
   "metadata": {},
   "outputs": [
    {
     "name": "stdout",
     "output_type": "stream",
     "text": [
      "<class 'pandas.core.frame.DataFrame'>\n",
      "Int64Index: 4992 entries, 485607 to 150243\n",
      "Data columns (total 80 columns):\n",
      " #   Column                      Non-Null Count  Dtype  \n",
      "---  ------                      --------------  -----  \n",
      " 0   sequence_names              4992 non-null   object \n",
      " 1    nt_proportion0             4992 non-null   float64\n",
      " 2    nt_proportion1             4992 non-null   float64\n",
      " 3    nt_proportion2             4992 non-null   float64\n",
      " 4    nt_proportion3             4992 non-null   float64\n",
      " 5    dinucleotide_proportion0   4992 non-null   float64\n",
      " 6    dinucleotide_proportion1   4992 non-null   float64\n",
      " 7    dinucleotide_proportion2   4992 non-null   float64\n",
      " 8    dinucleotide_proportion3   4992 non-null   float64\n",
      " 9    dinucleotide_proportion4   4992 non-null   float64\n",
      " 10   dinucleotide_proportion5   4992 non-null   float64\n",
      " 11   dinucleotide_proportion6   4992 non-null   float64\n",
      " 12   dinucleotide_proportion7   4992 non-null   float64\n",
      " 13   dinucleotide_proportion8   4992 non-null   float64\n",
      " 14   dinucleotide_proportion9   4992 non-null   float64\n",
      " 15   dinucleotide_proportion10  4992 non-null   float64\n",
      " 16   dinucleotide_proportion11  4992 non-null   float64\n",
      " 17   dinucleotide_proportion12  4992 non-null   float64\n",
      " 18   dinucleotide_proportion13  4992 non-null   float64\n",
      " 19   dinucleotide_proportion14  4992 non-null   float64\n",
      " 20   dinucleotide_proportion15  4992 non-null   float64\n",
      " 21   gc_content                 4992 non-null   float64\n",
      " 22   gc_ratio                   4992 non-null   float64\n",
      " 23   sequence_length            4992 non-null   float64\n",
      " 24   stem_number                4992 non-null   float64\n",
      " 25   avg_bp_stem                4992 non-null   float64\n",
      " 26   longest_stem_length        4992 non-null   float64\n",
      " 27   terminal_loop_length       4992 non-null   float64\n",
      " 28   bp_number                  4992 non-null   float64\n",
      " 29   dP                         4992 non-null   float64\n",
      " 30   bp_proportion0             4992 non-null   float64\n",
      " 31   bp_proportion1             4992 non-null   float64\n",
      " 32   bp_proportion2             4992 non-null   float64\n",
      " 33   bp_proportion_stem0        4992 non-null   float64\n",
      " 34   bp_proportion_stem1        4992 non-null   float64\n",
      " 35   bp_proportion_stem2        4992 non-null   float64\n",
      " 36   triplets0                  4992 non-null   float64\n",
      " 37   triplets1                  4992 non-null   float64\n",
      " 38   triplets2                  4992 non-null   float64\n",
      " 39   triplets3                  4992 non-null   float64\n",
      " 40   triplets4                  4992 non-null   float64\n",
      " 41   triplets5                  4992 non-null   float64\n",
      " 42   triplets6                  4992 non-null   float64\n",
      " 43   triplets7                  4992 non-null   float64\n",
      " 44   triplets8                  4992 non-null   float64\n",
      " 45   triplets9                  4992 non-null   float64\n",
      " 46   triplets10                 4992 non-null   float64\n",
      " 47   triplets11                 4992 non-null   float64\n",
      " 48   triplets12                 4992 non-null   float64\n",
      " 49   triplets13                 4992 non-null   float64\n",
      " 50   triplets14                 4992 non-null   float64\n",
      " 51   triplets15                 4992 non-null   float64\n",
      " 52   triplets16                 4992 non-null   float64\n",
      " 53   triplets17                 4992 non-null   float64\n",
      " 54   triplets18                 4992 non-null   float64\n",
      " 55   triplets19                 4992 non-null   float64\n",
      " 56   triplets20                 4992 non-null   float64\n",
      " 57   triplets21                 4992 non-null   float64\n",
      " 58   triplets22                 4992 non-null   float64\n",
      " 59   triplets23                 4992 non-null   float64\n",
      " 60   triplets24                 4992 non-null   float64\n",
      " 61   triplets25                 4992 non-null   float64\n",
      " 62   triplets26                 4992 non-null   float64\n",
      " 63   triplets27                 4992 non-null   float64\n",
      " 64   triplets28                 4992 non-null   float64\n",
      " 65   triplets29                 4992 non-null   float64\n",
      " 66   triplets30                 4992 non-null   float64\n",
      " 67   triplets31                 4992 non-null   float64\n",
      " 68   mfe                        4992 non-null   float64\n",
      " 69   efe                        4992 non-null   float64\n",
      " 70   ensemble_frequency         4992 non-null   float64\n",
      " 71   diversity                  4992 non-null   float64\n",
      " 72   mfe_efe_difference         4992 non-null   float64\n",
      " 73   dQ                         4992 non-null   float64\n",
      " 74   dG                         4992 non-null   float64\n",
      " 75   mfei1                      4992 non-null   float64\n",
      " 76   mfei2                      4992 non-null   float64\n",
      " 77   mfei4                      4992 non-null   float64\n",
      " 78  CLASS                       4992 non-null   int64  \n",
      " 79  weight                      4992 non-null   float64\n",
      "dtypes: float64(78), int64(1), object(1)\n",
      "memory usage: 3.1+ MB\n"
     ]
    }
   ],
   "source": [
    "# filtro los valores ' NaN'\n",
    "for column in [' gc_ratio', ' bp_proportion_stem0', ' bp_proportion_stem1', ' bp_proportion_stem2', ' mfei1', ' mfei2']:\n",
    "    df[column] = df[column].apply(lambda x: np.nan if x == ' NaN' or x == 'NaN' else x)\n",
    "    df[column] = pd.to_numeric(df[column])\n",
    "\n",
    "df.dropna(inplace=True)\n",
    "df.info()"
   ]
  },
  {
   "cell_type": "code",
   "execution_count": 36,
   "metadata": {},
   "outputs": [
    {
     "name": "stdout",
     "output_type": "stream",
     "text": [
      "(4992, 77) (4992,)\n"
     ]
    }
   ],
   "source": [
    "# organizo los datos en X e Y\n",
    "X = df.drop(columns=[\"sequence_names\", \"CLASS\", \"weight\"]).values # extraigo 3 columnas\n",
    "y = df[\"CLASS\"].values\n",
    "print(X.shape, y.shape)"
   ]
  },
  {
   "cell_type": "code",
   "execution_count": 37,
   "metadata": {},
   "outputs": [
    {
     "data": {
      "text/plain": [
       "0    4685\n",
       "1     307\n",
       "Name: CLASS, dtype: int64"
      ]
     },
     "execution_count": 37,
     "metadata": {},
     "output_type": "execute_result"
    }
   ],
   "source": [
    "# Checkeo las frecuencias absolutas de cada clase luego del cleaning de la base de datos\n",
    "df['CLASS'].value_counts()\n"
   ]
  },
  {
   "cell_type": "code",
   "execution_count": 38,
   "metadata": {},
   "outputs": [
    {
     "data": {
      "text/plain": [
       "Text(0, 0.5, 'Valor')"
      ]
     },
     "execution_count": 38,
     "metadata": {},
     "output_type": "execute_result"
    },
    {
     "data": {
      "image/png": "[encoded data removed]",
      "text/plain": [
       "<Figure size 1152x360 with 1 Axes>"
      ]
     },
     "metadata": {
      "needs_background": "light"
     },
     "output_type": "display_data"
    }
   ],
   "source": [
    "# Grafico las variables para observar su dispersion\n",
    "plt.figure(figsize=(16, 5))\n",
    "plt.boxplot(X)\n",
    "plt.xlabel(\"Características\")\n",
    "plt.ylabel(\"Valor\")\n",
    "\n",
    "# Se observan aproximadamente 10 clases con mayor dispersión que el resto"
   ]
  },
  {
   "cell_type": "code",
   "execution_count": 39,
   "metadata": {},
   "outputs": [
    {
     "data": {
      "image/png": "[encoded data removed]",
      "text/plain": [
       "<Figure size 1152x360 with 1 Axes>"
      ]
     },
     "metadata": {
      "needs_background": "light"
     },
     "output_type": "display_data"
    }
   ],
   "source": [
    "# Normalizo las variables para evitar que las variables con mayor dispersion\n",
    "# tengan mas efecto en el clasificador\n",
    "from sklearn.preprocessing import StandardScaler\n",
    "\n",
    "scaler = StandardScaler()\n",
    "# de forma similar a un clasificador, el scaler \"aprende\" a partir de los datos,\n",
    "# en este caso el valor medio y desvío estándar de cada característica.\n",
    "scaler.fit(X)\n",
    "X = scaler.transform(X)\n",
    "\n",
    "plt.figure(figsize=(16, 5))\n",
    "plt.boxplot(X);\n",
    "plt.xlabel(\"Características\")\n",
    "plt.ylabel(\"Valor\");\n",
    "\n",
    "# Como resultado todas las caracteristicas normalizadas tienen dispersiones similares"
   ]
  },
  {
   "attachments": {},
   "cell_type": "markdown",
   "metadata": {},
   "source": [
    "## Entrenamiento y evaluación de los modelos de clasificación ##"
   ]
  },
  {
   "cell_type": "code",
   "execution_count": 40,
   "metadata": {},
   "outputs": [],
   "source": [
    "# Validación cruzada de 5 particiones\n",
    "# Para tratar el desbalanceo de clases de los datos realizo \n",
    "# una partición estratificada. Cada partición tendrá la misma proporción de clases que los datos originales\n",
    "from sklearn.model_selection import StratifiedKFold\n",
    "\n",
    "generador_particiones = StratifiedKFold(n_splits=5, random_state=0, shuffle=True)\n",
    "\n",
    "particiones = list(generador_particiones.split(X, y))\n"
   ]
  },
  {
   "attachments": {},
   "cell_type": "markdown",
   "metadata": {},
   "source": [
    "Para evaluar el rendimiento de los modelos a utilizar empleo el *F1 score*.\n",
    "El *F1 score* es una métrica de evaluación del rendimiento de un modelo de clasificación que combina la precisión (*accuracy*) y la exhaustividad (*recall*) de un modelo en un único valor. Es decir, el F1 score permite evaluar de forma general la precisión y exhaustividad de un modelo.\n",
    "\n",
    "En el caso de un algoritmo de clasificación como KNN o Random Forest, el F1 score se utiliza para evaluar la precisión del modelo en la tarea de clasificación. Un F1 score alto indica que el modelo tiene un buen rendimiento en la clasificación de las observaciones en las clases correctas, mientras que un F1 score bajo indica que el modelo tiene dificultades para clasificar correctamente las observaciones."
   ]
  },
  {
   "cell_type": "code",
   "execution_count": 41,
   "metadata": {},
   "outputs": [
    {
     "name": "stdout",
     "output_type": "stream",
     "text": [
      "Datos de entrenamiento (3194, 77) | datos de desarrollo: (799, 77)\n",
      "Entrenamiento: 3194 (196 positivos)\n",
      "Desarrollo: 799 (49 positivos)\n"
     ]
    }
   ],
   "source": [
    "from sklearn.model_selection import train_test_split\n",
    "# definimos la métrica para evaluar los modelos\n",
    "from sklearn.metrics import f1_score\n",
    "\n",
    "# Cargamos los datos de la primer partición de entrenamiento, para separarlos\n",
    "# en entrenamiento (train) y optimizacion (dev)\n",
    "train_ind, _ = particiones[0]\n",
    "\n",
    "Xtrain, Xdev, ytrain, ydev = train_test_split(X[train_ind, :], y[train_ind], test_size=.2, stratify=y[train_ind])\n",
    "\n",
    "print(\"Datos de entrenamiento\", Xtrain.shape, \"| datos de desarrollo:\", Xdev.shape)\n",
    "print(f\"Entrenamiento: {len(ytrain)} ({np.sum(ytrain)} positivos)\")\n",
    "print(f\"Desarrollo: {len(ydev)} ({np.sum(ydev)} positivos)\")"
   ]
  },
  {
   "attachments": {},
   "cell_type": "markdown",
   "metadata": {},
   "source": [
    "La métrica *accuracy* no funciona bien cuando las clases están desbalanceadas como es en este caso. La mayoría de los *hairpins* no poseen una función conocida, así que es muy fácil para un modelo acertar diciendo que no tendran funcion (clase 0). Para problemas con clases desbalanceadas es mucho mejor usar precision, recall y F1 (que combina precisión y recall). "
   ]
  },
  {
   "cell_type": "code",
   "execution_count": 42,
   "metadata": {},
   "outputs": [
    {
     "name": "stdout",
     "output_type": "stream",
     "text": [
      "k: 1, weight: uniform, entrenamiento:  1.00, desarrollo:  0.33\n",
      "k: 1, weight: distance, entrenamiento:  1.00, desarrollo:  0.33\n",
      "k: 2, weight: uniform, entrenamiento:  0.51, desarrollo:  0.28\n",
      "k: 2, weight: distance, entrenamiento:  1.00, desarrollo:  0.33\n",
      "k: 3, weight: uniform, entrenamiento:  0.61, desarrollo:  0.36\n",
      "k: 3, weight: distance, entrenamiento:  1.00, desarrollo:  0.36\n",
      "k: 4, weight: uniform, entrenamiento:  0.46, desarrollo:  0.30\n",
      "k: 4, weight: distance, entrenamiento:  1.00, desarrollo:  0.38\n",
      "k: 5, weight: uniform, entrenamiento:  0.54, desarrollo:  0.34\n",
      "k: 5, weight: distance, entrenamiento:  1.00, desarrollo:  0.34\n",
      "k: 6, weight: uniform, entrenamiento:  0.37, desarrollo:  0.34\n",
      "k: 6, weight: distance, entrenamiento:  1.00, desarrollo:  0.34\n",
      "k: 7, weight: uniform, entrenamiento:  0.46, desarrollo:  0.34\n",
      "k: 7, weight: distance, entrenamiento:  1.00, desarrollo:  0.34\n",
      "k: 8, weight: uniform, entrenamiento:  0.38, desarrollo:  0.31\n",
      "k: 8, weight: distance, entrenamiento:  1.00, desarrollo:  0.33\n",
      "k: 9, weight: uniform, entrenamiento:  0.41, desarrollo:  0.37\n",
      "k: 9, weight: distance, entrenamiento:  1.00, desarrollo:  0.37\n",
      "k: 10, weight: uniform, entrenamiento:  0.35, desarrollo:  0.34\n",
      "k: 10, weight: distance, entrenamiento:  1.00, desarrollo:  0.37\n"
     ]
    }
   ],
   "source": [
    "# Busqueda de hiperparametros para KNN\n",
    "from sklearn.neighbors import KNeighborsClassifier\n",
    "from sklearn.metrics import f1_score\n",
    "for k in [1, 2, 3, 4, 5, 6, 7, 8, 9, 10]:\n",
    "    for weight in [\"uniform\", \"distance\"]:\n",
    "        model = KNeighborsClassifier(n_neighbors=k, weights=weight)\n",
    "        # Entrenamiento\n",
    "        model.fit(Xtrain, ytrain)\n",
    "        # Evaluación en entrenamiento\n",
    "        f1_train = f1_score(ytrain, model.predict(Xtrain))\n",
    "        # Evaluación en desarrollo\n",
    "        f1_dev = f1_score(ydev, model.predict(Xdev))\n",
    "        print(f\"k: {k}, weight: {weight}, entrenamiento: {f1_train: .2f}, desarrollo: {f1_dev: .2f}\")\n",
    "    \n",
    "    # con k = 4 y weight 'distance' se llega a un score de 0.47 en la particion de desarrollo, \n",
    "    # al aumentar k ese score no mejora y aumenta el coste computacional."
   ]
  },
  {
   "cell_type": "code",
   "execution_count": 43,
   "metadata": {},
   "outputs": [
    {
     "name": "stdout",
     "output_type": "stream",
     "text": [
      "0.2622950819672131 0.45569620253164556\n"
     ]
    },
    {
     "data": {
      "text/plain": [
       "[0.3050847457627119,\n",
       " 0.2622950819672131,\n",
       " 0.45569620253164556,\n",
       " 0.3548387096774194,\n",
       " 0.4225352112676057,\n",
       " 0.3692307692307692,\n",
       " 0.4117647058823529,\n",
       " 0.3939393939393939,\n",
       " 0.43478260869565216]"
      ]
     },
     "execution_count": 43,
     "metadata": {},
     "output_type": "execute_result"
    },
    {
     "data": {
      "image/png": "[encoded data removed]",
      "text/plain": [
       "<Figure size 432x288 with 1 Axes>"
      ]
     },
     "metadata": {
      "needs_background": "light"
     },
     "output_type": "display_data"
    }
   ],
   "source": [
    "# Busqueda de hiperparametros para RF\n",
    "f1_train, f1 = [] , []\n",
    "from sklearn.ensemble import RandomForestClassifier\n",
    "for k in range(1, 10):\n",
    "    model = RandomForestClassifier(n_estimators=k, random_state= 74) # uso un random_state para obtener siempre el mismo resultado al volver a ejecutar el notebook\n",
    "    model.fit(Xtrain, ytrain)\n",
    "\n",
    "    pred_train = model.predict(Xtrain)\n",
    "    pred = model.predict(Xdev)\n",
    "\n",
    "    f1_train.append(f1_score(ytrain, pred_train))\n",
    "    f1.append(f1_score(ydev, pred))\n",
    "\n",
    "plt.plot(np.arange(1, 10), f1_train, '*-',  label=\"train\", color = 'darkmagenta')\n",
    "plt.plot(np.arange(1, 10), f1, '*-', label=\"dev\", color = 'deeppink')\n",
    "plt.ylim([0, 1])\n",
    "plt.xlabel('Número de arboles')\n",
    "plt.ylabel('f1 score')\n",
    "plt.grid()\n",
    "plt.legend()\n",
    "print(min(f1), max(f1))\n",
    "# mayor f1 con 3 arboles\n",
    "f1"
   ]
  },
  {
   "cell_type": "code",
   "execution_count": 45,
   "metadata": {},
   "outputs": [
    {
     "data": {
      "text/html": [
       "<div>\n",
       "<style scoped>\n",
       "    .dataframe tbody tr th:only-of-type {\n",
       "        vertical-align: middle;\n",
       "    }\n",
       "\n",
       "    .dataframe tbody tr th {\n",
       "        vertical-align: top;\n",
       "    }\n",
       "\n",
       "    .dataframe thead th {\n",
       "        text-align: right;\n",
       "    }\n",
       "</style>\n",
       "<table border=\"1\" class=\"dataframe\">\n",
       "  <thead>\n",
       "    <tr style=\"text-align: right;\">\n",
       "      <th></th>\n",
       "      <th>modelo</th>\n",
       "      <th>acc</th>\n",
       "      <th>f1</th>\n",
       "      <th>pre</th>\n",
       "      <th>rec</th>\n",
       "    </tr>\n",
       "  </thead>\n",
       "  <tbody>\n",
       "    <tr>\n",
       "      <th>0</th>\n",
       "      <td>RF</td>\n",
       "      <td>0.939940</td>\n",
       "      <td>0.433962</td>\n",
       "      <td>0.370968</td>\n",
       "      <td>0.522727</td>\n",
       "    </tr>\n",
       "    <tr>\n",
       "      <th>1</th>\n",
       "      <td>KNN</td>\n",
       "      <td>0.947948</td>\n",
       "      <td>0.480000</td>\n",
       "      <td>0.387097</td>\n",
       "      <td>0.631579</td>\n",
       "    </tr>\n",
       "    <tr>\n",
       "      <th>2</th>\n",
       "      <td>RF</td>\n",
       "      <td>0.943944</td>\n",
       "      <td>0.404255</td>\n",
       "      <td>0.306452</td>\n",
       "      <td>0.593750</td>\n",
       "    </tr>\n",
       "    <tr>\n",
       "      <th>3</th>\n",
       "      <td>KNN</td>\n",
       "      <td>0.945946</td>\n",
       "      <td>0.460000</td>\n",
       "      <td>0.370968</td>\n",
       "      <td>0.605263</td>\n",
       "    </tr>\n",
       "    <tr>\n",
       "      <th>4</th>\n",
       "      <td>RF</td>\n",
       "      <td>0.943888</td>\n",
       "      <td>0.404255</td>\n",
       "      <td>0.311475</td>\n",
       "      <td>0.575758</td>\n",
       "    </tr>\n",
       "    <tr>\n",
       "      <th>5</th>\n",
       "      <td>KNN</td>\n",
       "      <td>0.941884</td>\n",
       "      <td>0.325581</td>\n",
       "      <td>0.229508</td>\n",
       "      <td>0.560000</td>\n",
       "    </tr>\n",
       "    <tr>\n",
       "      <th>6</th>\n",
       "      <td>RF</td>\n",
       "      <td>0.943888</td>\n",
       "      <td>0.481481</td>\n",
       "      <td>0.426230</td>\n",
       "      <td>0.553191</td>\n",
       "    </tr>\n",
       "    <tr>\n",
       "      <th>7</th>\n",
       "      <td>KNN</td>\n",
       "      <td>0.947896</td>\n",
       "      <td>0.422222</td>\n",
       "      <td>0.311475</td>\n",
       "      <td>0.655172</td>\n",
       "    </tr>\n",
       "    <tr>\n",
       "      <th>8</th>\n",
       "      <td>RF</td>\n",
       "      <td>0.944890</td>\n",
       "      <td>0.395604</td>\n",
       "      <td>0.295082</td>\n",
       "      <td>0.600000</td>\n",
       "    </tr>\n",
       "    <tr>\n",
       "      <th>9</th>\n",
       "      <td>KNN</td>\n",
       "      <td>0.944890</td>\n",
       "      <td>0.352941</td>\n",
       "      <td>0.245902</td>\n",
       "      <td>0.625000</td>\n",
       "    </tr>\n",
       "  </tbody>\n",
       "</table>\n",
       "</div>"
      ],
      "text/plain": [
       "  modelo       acc        f1       pre       rec\n",
       "0     RF  0.939940  0.433962  0.370968  0.522727\n",
       "1    KNN  0.947948  0.480000  0.387097  0.631579\n",
       "2     RF  0.943944  0.404255  0.306452  0.593750\n",
       "3    KNN  0.945946  0.460000  0.370968  0.605263\n",
       "4     RF  0.943888  0.404255  0.311475  0.575758\n",
       "5    KNN  0.941884  0.325581  0.229508  0.560000\n",
       "6     RF  0.943888  0.481481  0.426230  0.553191\n",
       "7    KNN  0.947896  0.422222  0.311475  0.655172\n",
       "8     RF  0.944890  0.395604  0.295082  0.600000\n",
       "9    KNN  0.944890  0.352941  0.245902  0.625000"
      ]
     },
     "execution_count": 45,
     "metadata": {},
     "output_type": "execute_result"
    }
   ],
   "source": [
    "# Validación cruzada\n",
    "from sklearn.metrics import f1_score, precision_score, recall_score, accuracy_score\n",
    "\n",
    "results = []\n",
    "\n",
    "for train_ind, test_ind in particiones:\n",
    "    for nombre_modelo in [\"RF\", \"KNN\"]:\n",
    "        if nombre_modelo == \"RF\":\n",
    "            modelo = RandomForestClassifier(n_estimators= 3, random_state=74)\n",
    "        if nombre_modelo == \"KNN\":\n",
    "            modelo = KNeighborsClassifier(n_neighbors= 4, weights= \"distance\")\n",
    "        # notar que ahora X[train_ind, :] contiene a Xtrain y Xdev de la celda\n",
    "        # anterior\n",
    "        modelo.fit(X[train_ind, :], y[train_ind])\n",
    "\n",
    "        pred = modelo.predict(X[test_ind, :])\n",
    "\n",
    "        results.append([nombre_modelo,\n",
    "                        accuracy_score(y[test_ind], pred),\n",
    "                       f1_score(y[test_ind], pred),\n",
    "                       recall_score(y[test_ind], pred),\n",
    "                       precision_score(y[test_ind], pred)])\n",
    "\n",
    "results = pd.DataFrame(results, columns=[\"modelo\", \"acc\", \"f1\", \"pre\", \"rec\"])\n",
    "results"
   ]
  },
  {
   "cell_type": "code",
   "execution_count": 46,
   "metadata": {},
   "outputs": [
    {
     "data": {
      "image/png": "[encoded data removed]",
      "text/plain": [
       "<Figure size 864x360 with 4 Axes>"
      ]
     },
     "metadata": {
      "needs_background": "light"
     },
     "output_type": "display_data"
    }
   ],
   "source": [
    "import seaborn as sns\n",
    "\n",
    "fig, ax = plt.subplots(1, 4, figsize=(12, 5))\n",
    "\n",
    "for k, metric in enumerate([\"acc\", \"pre\", \"rec\", \"f1\"]):\n",
    "    sns.boxplot(data=results, y=metric, x=\"modelo\", ax=ax[k], palette='rocket')\n",
    "    ax[k].set_ylim([0, 1])\n",
    "plt.tight_layout()"
   ]
  },
  {
   "attachments": {},
   "cell_type": "markdown",
   "metadata": {},
   "source": [
    "A partir de los 4 boxplots es posible concluir que:\n",
    "- Se obtienen valores de f1 similares a los obtenidos durante desarrollo. \n",
    "- Los dos modelos poseen valores similares de precisión, recall y f1. \n",
    "- En general, la dispersión de estos estimadores es menor para el modelo RF. \n",
    "- Sin embargo, la mediana de los estimadores es mayor para el modelo KNN, por lo cual podría considerarse \n",
    "que que este modelo tiene una mejor *performance*."
   ]
  },
  {
   "attachments": {},
   "cell_type": "markdown",
   "metadata": {},
   "source": [
    "## Limitaciones ##\n",
    "Es importante destacar que el proyecto tiene algunas limitaciones que podrían afectar los resultados y las conclusiones. Una de ellas es la sobrerrepresentación de la clase 0 en el conjunto de datos utilizado. Esta clase representa secuencias que codifican RNAs capaces de formar estructura de horquilla pero que no tienen una función de miRNA conocida. El desbalance de clases puede afectar la capacidad de los modelos para detectar correctamente pre-miRNAs de la clase 1 (secuencias que codifican pre-miRNAs con función identificada según miRBase).\n",
    "\n",
    "Otra limitación importante es que dentro de la clase 0 podría haber RNAs que sí funcionan como pre-miRNAs, pero cuya funciones todavía no han sido descubiertas o caracterizadas. Por lo tanto, el uso de esta categoría como negativos verdaderos al entrenar y evaluar los modelos podría afectar la capacidad de los modelos para detectar correctamente pre-miRNAs desconocidos.\n",
    "\n",
    "A su vez, solo se ajustaron los hiperparámetros **número de árboles** en el modelo de Random Forest y **k y weights** en el modelo de KNN. Es posible que otros hiperparámetros también tengan un impacto en la precisión y rendimiento de los modelos, pero no se exploraron en este proyecto. \n",
    "\n",
    "Es importante tener en cuenta estas limitaciones al interpretar los resultados del proyecto y considerar en futuros estudios la necesidad de utilizar conjuntos de datos más equilibrados y la posibilidad de incluir nuevas categorías en la clasificación de pre-miRNAs."
   ]
  },
  {
   "attachments": {},
   "cell_type": "markdown",
   "metadata": {},
   "source": [
    "## Conclusión ##\n",
    "En este proyecto se utilizó aprendizaje automático para la detección de pre-miRNAs en el genoma de *Drosophila melanogaster*. Se compararon dos modelos, KNN y Random Forest, en términos de su desempeño en la clasificación de secuencias como pre-miRNAs con función o secuencias que no son pre-miRNAs.\n",
    "\n",
    "Los resultados mostraron que los dos modelos se desempeñaron de forma similar, con valores similares de precisión, *recall* y F1. Sin embargo, la mediana de los estimadores fue levemente mayor para el modelo KNN, lo que sugiere que este modelo puede ser ligeramente superior en términos de su desempeño general. Además, se observó que el modelo de Random Forest presentó una menor dispersión en los valores estimados de precisión, *recall* y F1.\n",
    "\n",
    "En general, los resultados obtenidos indican que el uso de técnicas de aprendizaje automático para la detección de pre-miRNAs puede ser una estrategia efectiva. "
   ]
  }
 ],
 "metadata": {
  "kernelspec": {
   "display_name": "alfreedo",
   "language": "python",
   "name": "python3"
  },
  "language_info": {
   "codemirror_mode": {
    "name": "ipython",
    "version": 3
   },
   "file_extension": ".py",
   "mimetype": "text/x-python",
   "name": "python",
   "nbconvert_exporter": "python",
   "pygments_lexer": "ipython3",
   "version": "3.7.13"
  },
  "orig_nbformat": 4
 },
 "nbformat": 4,
 "nbformat_minor": 2
}
